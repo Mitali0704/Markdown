{
 "cells": [
  {
   "cell_type": "code",
   "execution_count": null,
   "id": "35c75bb3",
   "metadata": {},
   "outputs": [],
   "source": [
    "2+2\n",
    "\n"
   ]
  },
  {
   "cell_type": "markdown",
   "id": "7afd0e9a",
   "metadata": {},
   "source": [
    "# ARC Institution\n",
    "## Python\n",
    "### Sql\n",
    "#### Excel\n",
    "##### Tableau\n",
    "###### Power bi"
   ]
  },
  {
   "cell_type": "markdown",
   "id": "36f6c7a9",
   "metadata": {},
   "source": [
    "**ARC Institution**.\n",
    "__ARC DA18__.\n",
    "__Python language__.\n",
    "***Power bi and Python***.\n"
   ]
  },
  {
   "cell_type": "markdown",
   "id": "8986ca8b",
   "metadata": {},
   "source": [
    "\n",
    "\n",
    "\n"
   ]
  },
  {
   "cell_type": "markdown",
   "id": "b70ab858",
   "metadata": {},
   "source": [
    "('ARC').\n",
    "\n",
    "\n"
   ]
  },
  {
   "cell_type": "markdown",
   "id": "7ed562a1",
   "metadata": {},
   "source": [
    "'Print()'.\n",
    "\n"
   ]
  },
  {
   "cell_type": "markdown",
   "id": "1d1c395e",
   "metadata": {},
   "source": [
    "### this is python function example\n",
    "- - -python\n",
    "def addvalue(a,b):\n",
    "    return a+b\n",
    "- - -\n"
   ]
  },
  {
   "cell_type": "markdown",
   "id": "38b4324e",
   "metadata": {},
   "source": [
    "- - -"
   ]
  }
 ],
 "metadata": {
  "kernelspec": {
   "display_name": "Python 3",
   "language": "python",
   "name": "python3"
  },
  "language_info": {
   "codemirror_mode": {
    "name": "ipython",
    "version": 3
   },
   "file_extension": ".py",
   "mimetype": "text/x-python",
   "name": "python",
   "nbconvert_exporter": "python",
   "pygments_lexer": "ipython3",
   "version": "3.9.12"
  }
 },
 "nbformat": 4,
 "nbformat_minor": 5
}
